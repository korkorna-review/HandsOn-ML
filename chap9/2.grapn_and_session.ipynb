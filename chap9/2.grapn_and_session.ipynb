{
 "cells": [
  {
   "cell_type": "markdown",
   "metadata": {},
   "source": [
    "## 9.1. 첫번째 계산 그래프를 만들어 세션에서 실행하기"
   ]
  },
  {
   "cell_type": "code",
   "execution_count": 4,
   "metadata": {},
   "outputs": [
    {
     "data": {
      "text/plain": [
       "'1.13.1'"
      ]
     },
     "execution_count": 4,
     "metadata": {},
     "output_type": "execute_result"
    }
   ],
   "source": [
    "import tensorflow as tf\n",
    "\n",
    "tf.__version__"
   ]
  },
  {
   "cell_type": "code",
   "execution_count": 6,
   "metadata": {},
   "outputs": [],
   "source": [
    "# 주의사항\n",
    "# 이 코드는 실제 어떤 계산도 수행하지 않는다.\n",
    "# 단지 계산 그래프만 만들어둘 뿐.\n",
    "x = tf.Variable(3, name='x')\n",
    "y = tf.Variable(4, name='y')\n",
    "f = x*x*y + y + 2"
   ]
  },
  {
   "cell_type": "markdown",
   "metadata": {},
   "source": [
    "위 계산 그래프를 평가하려면 텐서플로 Session을 시작하고 변수를 초기화한 후 다음 f를 평가해야한다.\n",
    "> session은 연산을 CPU나 GPU 같은 하드웨어 장치에 올리고 실행하는 것을 도와주며 모든 변수값을 가지고 있다.<br/>\n",
    "> 텐서플로 분산 환경에서는 변수값이 세션이 아니라 서버에 저장된다."
   ]
  },
  {
   "cell_type": "code",
   "execution_count": 9,
   "metadata": {},
   "outputs": [
    {
     "name": "stdout",
     "output_type": "stream",
     "text": [
      "42\n"
     ]
    }
   ],
   "source": [
    "sess = tf.Session()\n",
    "sess.run(x.initializer)\n",
    "sess.run(y.initializer)\n",
    "result = sess.run(f)\n",
    "print(result)\n",
    "sess.close()"
   ]
  },
  {
   "cell_type": "code",
   "execution_count": 10,
   "metadata": {},
   "outputs": [
    {
     "name": "stdout",
     "output_type": "stream",
     "text": [
      "42\n"
     ]
    }
   ],
   "source": [
    "# sess.run 반복을 줄이는 방법\n",
    "# python with 문을 이용\n",
    "with tf.Session() as sess:\n",
    "    x.initializer.run()       # tf.get_default_session().run(x.initializer) 호출과 동일\n",
    "    y.initializer.run()\n",
    "    result = f.eval()         # tf.get_Default_session().run(f)\n",
    "    print(result)"
   ]
  },
  {
   "cell_type": "code",
   "execution_count": 12,
   "metadata": {},
   "outputs": [
    {
     "name": "stdout",
     "output_type": "stream",
     "text": [
      "42\n"
     ]
    }
   ],
   "source": [
    "## 매번 변수 초기화 반복을 줄이는 방법\n",
    "init = tf.global_variables_initializer()   # init 노드 준비\n",
    "\n",
    "with tf.Session() as sess:\n",
    "    init.run()\n",
    "    result = f.eval()\n",
    "    print(result)"
   ]
  },
  {
   "cell_type": "markdown",
   "metadata": {},
   "source": [
    "쥬피터나 파이썬 셀에서는 InteractiveSession을 만드는 편이 편리할 수 있음. <br/>\n",
    "Session과 다른점은 interactiveSession이 만들어질 때 자동으로 자신을 기본 세션으로 지정한다는 점 <br/>\n",
    "그러므로 with 블록을 사용할 필요가 없다.(`사용이 끝난후 수동으로 세션을 종료해줘야한다.`)"
   ]
  },
  {
   "cell_type": "code",
   "execution_count": 14,
   "metadata": {},
   "outputs": [
    {
     "name": "stdout",
     "output_type": "stream",
     "text": [
      "42\n"
     ]
    }
   ],
   "source": [
    "sess = tf.InteractiveSession()   # 기본 세션 지정\n",
    "init.run()                       # 변수 초기화\n",
    "result = sess.run(f)             # f.eval()\n",
    "print(result)\n",
    "sess.close()"
   ]
  },
  {
   "cell_type": "code",
   "execution_count": null,
   "metadata": {},
   "outputs": [],
   "source": []
  }
 ],
 "metadata": {
  "kernelspec": {
   "display_name": "Python 3",
   "language": "python",
   "name": "python3"
  },
  "language_info": {
   "codemirror_mode": {
    "name": "ipython",
    "version": 3
   },
   "file_extension": ".py",
   "mimetype": "text/x-python",
   "name": "python",
   "nbconvert_exporter": "python",
   "pygments_lexer": "ipython3",
   "version": "3.6.7"
  }
 },
 "nbformat": 4,
 "nbformat_minor": 2
}
